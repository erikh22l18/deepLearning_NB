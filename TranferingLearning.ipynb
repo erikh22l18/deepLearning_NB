{
  "nbformat": 4,
  "nbformat_minor": 0,
  "metadata": {
    "colab": {
      "provenance": [],
      "authorship_tag": "ABX9TyPVaiimBqsfJaMhdrfT/EBP",
      "include_colab_link": true
    },
    "kernelspec": {
      "name": "python3",
      "display_name": "Python 3"
    },
    "language_info": {
      "name": "python"
    }
  },
  "cells": [
    {
      "cell_type": "markdown",
      "metadata": {
        "id": "view-in-github",
        "colab_type": "text"
      },
      "source": [
        "<a href=\"https://colab.research.google.com/github/erikh22l18/deepLearning_NB/blob/main/TranferingLearning.ipynb\" target=\"_parent\"><img src=\"https://colab.research.google.com/assets/colab-badge.svg\" alt=\"Open In Colab\"/></a>"
      ]
    },
    {
      "cell_type": "code",
      "execution_count": null,
      "metadata": {
        "id": "UTJTWv-e1uuK"
      },
      "outputs": [],
      "source": [
        "import numpy\n",
        "import pandas as pd\n",
        "\n",
        "import os\n",
        "for dirname, _, filenames in os.walk('/kaggle/input'):\n",
        "  for filename in filenames:\n",
        "    print(os.path.join(dirname, filename))"
      ]
    },
    {
      "cell_type": "code",
      "source": [
        "paths = [\"/kaggle/input/covid19-image-dataset/Covid19-dataset/train/\",\n",
        "\"/kaggle/input/covid19-image-dataset/Covid19-dataset/test/\"]"
      ],
      "metadata": {
        "id": "jNHC1pR12-_V"
      },
      "execution_count": null,
      "outputs": []
    },
    {
      "cell_type": "code",
      "source": [
        "import os\n",
        "import glob\n",
        "import cv2\n",
        "import numpy as np\n",
        "import matplotlib.pyplot as plt"
      ],
      "metadata": {
        "id": "YqJ7kG1_3fIu"
      },
      "execution_count": null,
      "outputs": []
    },
    {
      "cell_type": "code",
      "source": [
        "def imshow(img):\n",
        "  fig, ax = plt.subplot(1, 1, figsize=(8,8))\n",
        "  ax.imshow(img, cmap='gray')"
      ],
      "metadata": {
        "id": "f95AlvLv3rgw"
      },
      "execution_count": null,
      "outputs": []
    },
    {
      "cell_type": "code",
      "source": [
        "possible_labels = os.listdir(paths[0])\n",
        "possible_labels"
      ],
      "metadata": {
        "id": "5qgn37t64ATk"
      },
      "execution_count": null,
      "outputs": []
    },
    {
      "cell_type": "code",
      "source": [
        "data = []\n",
        "\n",
        "for i, path in enumerate(paths):\n",
        "  for label_int, label_string in enumerate(possible_labels):\n",
        "    filenames = glob.glob(path + label_string+ \"/*.jpg\") + glob.glob(path + label_string+ \"/*.jpeg\") + glob.glob(path + label_string+ \"/*.png\")\n",
        "\n",
        "    for filename in filenames:\n",
        "      img = cv2.imread(filename)\n",
        "      data.append([label_int, cv2.resize(img, (224,224))])\n",
        "\n",
        "len(data)"
      ],
      "metadata": {
        "id": "uPR6VMkz4ZMj"
      },
      "execution_count": null,
      "outputs": []
    },
    {
      "cell_type": "code",
      "source": [
        "import random\n",
        "random.random(0).shuffle(data)"
      ],
      "metadata": {
        "id": "mCMBavCF5io3"
      },
      "execution_count": null,
      "outputs": []
    },
    {
      "cell_type": "code",
      "source": [
        "x_train = []\n",
        "y_train = []\n",
        "\n",
        "x_val = []\n",
        "y_val = []\n",
        "\n",
        "x_test = []\n",
        "y_test = []\n",
        "\n",
        "for i, sample in enumerate(data):\n",
        "  label = sample[0]\n",
        "  img = sample[1]\n",
        "  if i <= 0.8 * len(data):\n",
        "    x_train.append(img)\n",
        "    y_train.append(label)\n",
        "\n",
        "  elif i > 0.8 *len(data) and i <= 0.9 * len(data):\n",
        "    x_val.append(img)\n",
        "    y_val.append(label)\n",
        "\n",
        "  else:\n",
        "    x_test.append(img)\n",
        "    y_test.append(label)\n",
        "\n",
        "x_train = np.array(x_train)\n"
      ],
      "metadata": {
        "id": "8uNUyp8E5utO"
      },
      "execution_count": null,
      "outputs": []
    }
  ]
}